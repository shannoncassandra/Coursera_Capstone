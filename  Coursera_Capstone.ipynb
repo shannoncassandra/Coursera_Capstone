{
    "cells": [
        {
            "metadata": {},
            "cell_type": "markdown",
            "source": "# Determining the Best Location for a Start-Up Bar"
        },
        {
            "metadata": {},
            "cell_type": "markdown",
            "source": "Shannon Bee"
        },
        {
            "metadata": {},
            "cell_type": "markdown",
            "source": "December 22, 2020"
        },
        {
            "metadata": {},
            "cell_type": "markdown",
            "source": "## 1. Introduction"
        },
        {
            "metadata": {},
            "cell_type": "markdown",
            "source": "Start-up companies face several decisions, one of the biggest being location. The location of a business can make or break the company, and should be carefully determined in order to achieve the optimal conditions.  While all start-up businesses face challenges, this is especially in the restaurant/bar industry. Per an article by CNBC, around 60 percent of new restaurants fail within the first year, and nearly 80 percent shutter before their fifth anniversary. This analysis will specifically target the best location for a start-up bar, between San Francisco, CA and San Diego, CA."
        },
        {
            "metadata": {},
            "cell_type": "markdown",
            "source": "#### 1.1 Background"
        },
        {
            "metadata": {},
            "cell_type": "markdown",
            "source": "The data that will be used in this analysis will be the number of similar bars in each city, the prices of drinks in each city, the costs of products needed for the bar based on the city, and the general population and demographic of each city."
        },
        {
            "metadata": {},
            "cell_type": "markdown",
            "source": "#### 1.2 Problem"
        },
        {
            "metadata": {},
            "cell_type": "markdown",
            "source": "The objective of this analysis will be to determine if it will be more profitable to open a bar in San Diego, CA or San Francisco, CA. This will be determined by prices of similar products in the area, competitors, and the general population and demographic of the areas. The audience will be a start-up bar interested in maximizing profits and catering to a younger crowd. "
        },
        {
            "metadata": {},
            "cell_type": "markdown",
            "source": "#### 1.3 Interest"
        },
        {
            "metadata": {},
            "cell_type": "markdown",
            "source": "The information will be presented to a start-up bar determining where to open their new venture."
        },
        {
            "metadata": {},
            "cell_type": "markdown",
            "source": "## 2. Data Acquisition"
        },
        {
            "metadata": {},
            "cell_type": "markdown",
            "source": "This data will be obtained from Foursquare location data and other relevant datasets found online. For example, coordinates will be obtained from Foursquare location data to see surrounding competing bars and the popularity and prices for each. Based on this information, the most profitable location of the start-up bar can be determined, as well as estimated prices for products in order to be competitive."
        },
        {
            "metadata": {},
            "cell_type": "markdown",
            "source": "#### 2.1 Data Sources"
        },
        {
            "metadata": {},
            "cell_type": "markdown",
            "source": "Foursquare location data"
        },
        {
            "metadata": {},
            "cell_type": "markdown",
            "source": "## 3. Exploratory Data Analysis"
        },
        {
            "metadata": {},
            "cell_type": "markdown",
            "source": "Population and age demographic information was obtained and detailed below"
        },
        {
            "metadata": {},
            "cell_type": "markdown",
            "source": "#### 3.1 Population and Age Demographics"
        },
        {
            "metadata": {},
            "cell_type": "markdown",
            "source": "San Diego has a population of 1,423,852 with a median age of 35.4. Per censusreporter.org, 23% is under 19, 18% is between 20 and 29, 17% is between 30 and 39, 13% is between 40 and 49, and 29% is over 50."
        },
        {
            "metadata": {},
            "cell_type": "markdown",
            "source": "San Francisco has a population of 881,549 with a median age of 38.2. Per censusreporter.org, 15% is under 19, 17% is between 20 and 29, 21% is between 30 and 39, 13% is between 40 and 49, and 33% is over 50."
        },
        {
            "metadata": {},
            "cell_type": "markdown",
            "source": "#### 3.2 Prices and Costs"
        },
        {
            "metadata": {},
            "cell_type": "markdown",
            "source": "Per thrillist.com, the average cost of a bulk bottle of alcohol in the state of California is 16.99 for Smirnoff and 30.00 for Grey Goose. Per expatisan.com, the average cocktail price in San Diego is 14. The average cocktail price in San Francisco is 15, indicating a slightly profitability in San Francisco. This will be analyzed and verified through Foursquare in the Predictive Modeling section below."
        },
        {
            "metadata": {},
            "cell_type": "markdown",
            "source": "## 4. Predictive Modeling"
        },
        {
            "metadata": {},
            "cell_type": "markdown",
            "source": "#### 4.1 Surrounding Areas"
        },
        {
            "metadata": {},
            "cell_type": "code",
            "source": "import requests # library to handle requests\nimport pandas as pd # library for data analsysis\nimport numpy as np # library to handle data in a vectorized manner\nimport random # library for random number generation\n\n\n!pip install geopy\nfrom geopy.geocoders import Nominatim # module to convert an address into latitude and longitude values\n\n# libraries for displaying images\nfrom IPython.display import Image \nfrom IPython.core.display import HTML \n    \n# tranforming json file into a pandas dataframe library\nfrom pandas.io.json import json_normalize\n\n\n! pip install folium==0.5.0\nimport folium # plotting library\n\nprint('Folium installed')\nprint('Libraries imported.')",
            "execution_count": 33,
            "outputs": [
                {
                    "output_type": "stream",
                    "text": "Requirement already satisfied: geopy in /opt/conda/envs/Python-3.7-main/lib/python3.7/site-packages (2.0.0)\nRequirement already satisfied: geographiclib<2,>=1.49 in /opt/conda/envs/Python-3.7-main/lib/python3.7/site-packages (from geopy) (1.50)\nRequirement already satisfied: folium==0.5.0 in /opt/conda/envs/Python-3.7-main/lib/python3.7/site-packages (0.5.0)\nRequirement already satisfied: branca in /opt/conda/envs/Python-3.7-main/lib/python3.7/site-packages (from folium==0.5.0) (0.4.1)\nRequirement already satisfied: six in /opt/conda/envs/Python-3.7-main/lib/python3.7/site-packages (from folium==0.5.0) (1.15.0)\nRequirement already satisfied: requests in /opt/conda/envs/Python-3.7-main/lib/python3.7/site-packages (from folium==0.5.0) (2.24.0)\nRequirement already satisfied: jinja2 in /opt/conda/envs/Python-3.7-main/lib/python3.7/site-packages (from folium==0.5.0) (2.11.2)\nRequirement already satisfied: idna<3,>=2.5 in /opt/conda/envs/Python-3.7-main/lib/python3.7/site-packages (from requests->folium==0.5.0) (2.9)\nRequirement already satisfied: certifi>=2017.4.17 in /opt/conda/envs/Python-3.7-main/lib/python3.7/site-packages (from requests->folium==0.5.0) (2020.12.5)\nRequirement already satisfied: chardet<4,>=3.0.2 in /opt/conda/envs/Python-3.7-main/lib/python3.7/site-packages (from requests->folium==0.5.0) (3.0.4)\nRequirement already satisfied: urllib3!=1.25.0,!=1.25.1,<1.26,>=1.21.1 in /opt/conda/envs/Python-3.7-main/lib/python3.7/site-packages (from requests->folium==0.5.0) (1.25.9)\nRequirement already satisfied: MarkupSafe>=0.23 in /opt/conda/envs/Python-3.7-main/lib/python3.7/site-packages (from jinja2->folium==0.5.0) (1.1.1)\nFolium installed\nLibraries imported.\n",
                    "name": "stdout"
                }
            ]
        },
        {
            "metadata": {},
            "cell_type": "code",
            "source": "CLIENT_ID = 'QHQN04UQO0ZGDXGQKDJWWQBP2OUJ2F4XGSDSVUGCQT5EH0E2' # your Foursquare ID\nCLIENT_SECRET = 'C5ICXXSTRBLC1NDPEPOMJM4RA0ZMFD3DFLQPCXRBTPUUKWJB' # your Foursquare Secret\nACCESS_TOKEN = '02DRMR5KMEAV04C1PQJQXXS5GM4QTCHALZ51QXRXTYT4ISLG' # your FourSquare Access Token\nVERSION = '20180604'\nLIMIT = 30\nprint('Your credentails:')\nprint('QHQN04UQO0ZGDXGQKDJWWQBP2OUJ2F4XGSDSVUGCQT5EH0E2' + CLIENT_ID)\nprint('C5ICXXSTRBLC1NDPEPOMJM4RA0ZMFD3DFLQPCXRBTPUUKWJB' + CLIENT_SECRET)",
            "execution_count": 34,
            "outputs": [
                {
                    "output_type": "stream",
                    "text": "Your credentails:\nQHQN04UQO0ZGDXGQKDJWWQBP2OUJ2F4XGSDSVUGCQT5EH0E2QHQN04UQO0ZGDXGQKDJWWQBP2OUJ2F4XGSDSVUGCQT5EH0E2\nC5ICXXSTRBLC1NDPEPOMJM4RA0ZMFD3DFLQPCXRBTPUUKWJBC5ICXXSTRBLC1NDPEPOMJM4RA0ZMFD3DFLQPCXRBTPUUKWJB\n",
                    "name": "stdout"
                }
            ]
        },
        {
            "metadata": {},
            "cell_type": "code",
            "source": "address = 'San Diego, CA'\n\ngeolocator = Nominatim(user_agent=\"foursquare_agent\")\nlocation = geolocator.geocode(address)\nlatitude = location.latitude\nlongitude = location.longitude\nprint(latitude, longitude)",
            "execution_count": 35,
            "outputs": [
                {
                    "output_type": "stream",
                    "text": "32.7174202 -117.1627728\n",
                    "name": "stdout"
                }
            ]
        },
        {
            "metadata": {},
            "cell_type": "code",
            "source": "address = 'San Francisco, CA'\n\ngeolocator = Nominatim(user_agent=\"foursquare_agent\")\nlocation = geolocator.geocode(address)\nlatitude = location.latitude\nlongitude = location.longitude\nprint(latitude, longitude)",
            "execution_count": 36,
            "outputs": [
                {
                    "output_type": "stream",
                    "text": "37.7790262 -122.4199061\n",
                    "name": "stdout"
                }
            ]
        },
        {
            "metadata": {},
            "cell_type": "code",
            "source": "search_query = 'Bar'\nradius = 500\nprint(search_query + ' .... OK!')",
            "execution_count": 80,
            "outputs": [
                {
                    "output_type": "stream",
                    "text": "Bar .... OK!\n",
                    "name": "stdout"
                }
            ]
        },
        {
            "metadata": {},
            "cell_type": "code",
            "source": "url = 'https://api.foursquare.com/v2/venues/search?client_id={}&client_secret={}&ll={},{}&oauth_token={}&v={}&query={}&radius={}&limit={}'.format(CLIENT_ID, CLIENT_SECRET, latitude, longitude,ACCESS_TOKEN, VERSION, search_query, radius, LIMIT)\nurl",
            "execution_count": 81,
            "outputs": [
                {
                    "output_type": "execute_result",
                    "execution_count": 81,
                    "data": {
                        "text/plain": "'https://api.foursquare.com/v2/venues/search?client_id=QHQN04UQO0ZGDXGQKDJWWQBP2OUJ2F4XGSDSVUGCQT5EH0E2&client_secret=C5ICXXSTRBLC1NDPEPOMJM4RA0ZMFD3DFLQPCXRBTPUUKWJB&ll=37.7790262,-122.4199061&oauth_token=02DRMR5KMEAV04C1PQJQXXS5GM4QTCHALZ51QXRXTYT4ISLG&v=20180604&query=Bar&radius=500&limit=30'"
                    },
                    "metadata": {}
                }
            ]
        },
        {
            "metadata": {},
            "cell_type": "code",
            "source": "results = requests.get(url).json()\nresults",
            "execution_count": 56,
            "outputs": [
                {
                    "output_type": "execute_result",
                    "execution_count": 56,
                    "data": {
                        "text/plain": "{'meta': {'code': 200, 'requestId': '5fe267c3dad389062d321c11'},\n 'notifications': [{'type': 'notificationTray', 'item': {'unreadCount': 0}}],\n 'response': {'venues': [{'id': '5905515f8c812a4130298084',\n    'name': 'Thomas L Horn Bar & Lounge',\n    'location': {'address': '401 Van Ness Ave',\n     'lat': 37.77958,\n     'lng': -122.42211,\n     'labeledLatLngs': [{'label': 'display',\n       'lat': 37.77958,\n       'lng': -122.42211}],\n     'distance': 203,\n     'postalCode': '94102',\n     'cc': 'US',\n     'city': 'San Francisco',\n     'state': 'CA',\n     'country': 'United States',\n     'formattedAddress': ['401 Van Ness Ave', 'San Francisco, CA 94102']},\n    'categories': [{'id': '4bf58dd8d48988d123941735',\n      'name': 'Wine Bar',\n      'pluralName': 'Wine Bars',\n      'shortName': 'Wine Bar',\n      'icon': {'prefix': 'https://ss3.4sqi.net/img/categories_v2/food/winery_',\n       'suffix': '.png'},\n      'primary': True}],\n    'referralId': 'v-1608673219',\n    'hasPerk': False},\n   {'id': '5fbf51f35e4a23458f548454',\n    'name': \"Dickey's Barbecue Pit\",\n    'location': {'address': '590 Van Ness Ave',\n     'lat': 37.7808311,\n     'lng': -122.4199593,\n     'labeledLatLngs': [{'label': 'display',\n       'lat': 37.7808311,\n       'lng': -122.4199593}],\n     'distance': 200,\n     'postalCode': '94102',\n     'cc': 'US',\n     'city': 'San Francisco',\n     'state': 'CA',\n     'country': 'United States',\n     'formattedAddress': ['590 Van Ness Ave', 'San Francisco, CA 94102']},\n    'categories': [{'id': '4bf58dd8d48988d1c4941735',\n      'name': 'Restaurant',\n      'pluralName': 'Restaurants',\n      'shortName': 'Restaurant',\n      'icon': {'prefix': 'https://ss3.4sqi.net/img/categories_v2/food/default_',\n       'suffix': '.png'},\n      'primary': True}],\n    'delivery': {'id': '2423749',\n     'url': 'https://www.grubhub.com/restaurant/dickeys-barbecue-pit-590-van-ness-ave-san-francisco/2423749?affiliate=1131&utm_source=foursquare-affiliate-network&utm_medium=affiliate&utm_campaign=1131&utm_content=2423749',\n     'provider': {'name': 'grubhub',\n      'icon': {'prefix': 'https://fastly.4sqi.net/img/general/cap/',\n       'sizes': [40, 50],\n       'name': '/delivery_provider_grubhub_20180129.png'}}},\n    'venuePage': {'id': '600684723'},\n    'referralId': 'v-1608673219',\n    'hasPerk': False}]}}"
                    },
                    "metadata": {}
                }
            ]
        },
        {
            "metadata": {},
            "cell_type": "code",
            "source": "# assign relevant part of JSON to venues\nvenues = results['response']['venues']\n\n# tranform venues into a dataframe\ndataframe = pd.json_normalize(venues)\ndataframe.head()",
            "execution_count": 82,
            "outputs": [
                {
                    "output_type": "execute_result",
                    "execution_count": 82,
                    "data": {
                        "text/plain": "                         id                        name  \\\n0  5905515f8c812a4130298084  Thomas L Horn Bar & Lounge   \n1  5fbf51f35e4a23458f548454       Dickey's Barbecue Pit   \n\n                                          categories    referralId  hasPerk  \\\n0  [{'id': '4bf58dd8d48988d123941735', 'name': 'W...  v-1608673219    False   \n1  [{'id': '4bf58dd8d48988d1c4941735', 'name': 'R...  v-1608673219    False   \n\n   location.address  location.lat  location.lng  \\\n0  401 Van Ness Ave     37.779580   -122.422110   \n1  590 Van Ness Ave     37.780831   -122.419959   \n\n                             location.labeledLatLngs  location.distance  ...  \\\n0  [{'label': 'display', 'lat': 37.77958, 'lng': ...                203  ...   \n1  [{'label': 'display', 'lat': 37.7808311, 'lng'...                200  ...   \n\n  location.state location.country  \\\n0             CA    United States   \n1             CA    United States   \n\n                     location.formattedAddress delivery.id  \\\n0  [401 Van Ness Ave, San Francisco, CA 94102]         NaN   \n1  [590 Van Ness Ave, San Francisco, CA 94102]     2423749   \n\n                                        delivery.url delivery.provider.name  \\\n0                                                NaN                    NaN   \n1  https://www.grubhub.com/restaurant/dickeys-bar...                grubhub   \n\n              delivery.provider.icon.prefix delivery.provider.icon.sizes  \\\n0                                       NaN                          NaN   \n1  https://fastly.4sqi.net/img/general/cap/                     [40, 50]   \n\n               delivery.provider.icon.name venuePage.id  \n0                                      NaN          NaN  \n1  /delivery_provider_grubhub_20180129.png    600684723  \n\n[2 rows x 23 columns]",
                        "text/html": "<div>\n<style scoped>\n    .dataframe tbody tr th:only-of-type {\n        vertical-align: middle;\n    }\n\n    .dataframe tbody tr th {\n        vertical-align: top;\n    }\n\n    .dataframe thead th {\n        text-align: right;\n    }\n</style>\n<table border=\"1\" class=\"dataframe\">\n  <thead>\n    <tr style=\"text-align: right;\">\n      <th></th>\n      <th>id</th>\n      <th>name</th>\n      <th>categories</th>\n      <th>referralId</th>\n      <th>hasPerk</th>\n      <th>location.address</th>\n      <th>location.lat</th>\n      <th>location.lng</th>\n      <th>location.labeledLatLngs</th>\n      <th>location.distance</th>\n      <th>...</th>\n      <th>location.state</th>\n      <th>location.country</th>\n      <th>location.formattedAddress</th>\n      <th>delivery.id</th>\n      <th>delivery.url</th>\n      <th>delivery.provider.name</th>\n      <th>delivery.provider.icon.prefix</th>\n      <th>delivery.provider.icon.sizes</th>\n      <th>delivery.provider.icon.name</th>\n      <th>venuePage.id</th>\n    </tr>\n  </thead>\n  <tbody>\n    <tr>\n      <th>0</th>\n      <td>5905515f8c812a4130298084</td>\n      <td>Thomas L Horn Bar &amp; Lounge</td>\n      <td>[{'id': '4bf58dd8d48988d123941735', 'name': 'W...</td>\n      <td>v-1608673219</td>\n      <td>False</td>\n      <td>401 Van Ness Ave</td>\n      <td>37.779580</td>\n      <td>-122.422110</td>\n      <td>[{'label': 'display', 'lat': 37.77958, 'lng': ...</td>\n      <td>203</td>\n      <td>...</td>\n      <td>CA</td>\n      <td>United States</td>\n      <td>[401 Van Ness Ave, San Francisco, CA 94102]</td>\n      <td>NaN</td>\n      <td>NaN</td>\n      <td>NaN</td>\n      <td>NaN</td>\n      <td>NaN</td>\n      <td>NaN</td>\n      <td>NaN</td>\n    </tr>\n    <tr>\n      <th>1</th>\n      <td>5fbf51f35e4a23458f548454</td>\n      <td>Dickey's Barbecue Pit</td>\n      <td>[{'id': '4bf58dd8d48988d1c4941735', 'name': 'R...</td>\n      <td>v-1608673219</td>\n      <td>False</td>\n      <td>590 Van Ness Ave</td>\n      <td>37.780831</td>\n      <td>-122.419959</td>\n      <td>[{'label': 'display', 'lat': 37.7808311, 'lng'...</td>\n      <td>200</td>\n      <td>...</td>\n      <td>CA</td>\n      <td>United States</td>\n      <td>[590 Van Ness Ave, San Francisco, CA 94102]</td>\n      <td>2423749</td>\n      <td>https://www.grubhub.com/restaurant/dickeys-bar...</td>\n      <td>grubhub</td>\n      <td>https://fastly.4sqi.net/img/general/cap/</td>\n      <td>[40, 50]</td>\n      <td>/delivery_provider_grubhub_20180129.png</td>\n      <td>600684723</td>\n    </tr>\n  </tbody>\n</table>\n<p>2 rows \u00d7 23 columns</p>\n</div>"
                    },
                    "metadata": {}
                }
            ]
        },
        {
            "metadata": {},
            "cell_type": "code",
            "source": "# keep only columns that include venue name, and anything that is associated with location\nfiltered_columns = ['name', 'categories'] + [col for col in dataframe.columns if col.startswith('location.')] + ['id']\ndataframe_filtered = dataframe.loc[:, filtered_columns]\n\n# function that extracts the category of the venue\ndef get_category_type(row):\n    try:\n        categories_list = row['categories']\n    except:\n        categories_list = row['venue.categories']\n        \n    if len(categories_list) == 0:\n        return None\n    else:\n        return categories_list[0]['name']\n\n# filter the category for each row\ndataframe_filtered['categories'] = dataframe_filtered.apply(get_category_type, axis=1)\n\n# clean column names by keeping only last term\ndataframe_filtered.columns = [column.split('.')[-1] for column in dataframe_filtered.columns]\n\ndataframe_filtered",
            "execution_count": 83,
            "outputs": [
                {
                    "output_type": "execute_result",
                    "execution_count": 83,
                    "data": {
                        "text/plain": "                         name  categories           address        lat  \\\n0  Thomas L Horn Bar & Lounge    Wine Bar  401 Van Ness Ave  37.779580   \n1       Dickey's Barbecue Pit  Restaurant  590 Van Ness Ave  37.780831   \n\n          lng                                     labeledLatLngs  distance  \\\n0 -122.422110  [{'label': 'display', 'lat': 37.77958, 'lng': ...       203   \n1 -122.419959  [{'label': 'display', 'lat': 37.7808311, 'lng'...       200   \n\n  postalCode  cc           city state        country  \\\n0      94102  US  San Francisco    CA  United States   \n1      94102  US  San Francisco    CA  United States   \n\n                              formattedAddress                        id  \n0  [401 Van Ness Ave, San Francisco, CA 94102]  5905515f8c812a4130298084  \n1  [590 Van Ness Ave, San Francisco, CA 94102]  5fbf51f35e4a23458f548454  ",
                        "text/html": "<div>\n<style scoped>\n    .dataframe tbody tr th:only-of-type {\n        vertical-align: middle;\n    }\n\n    .dataframe tbody tr th {\n        vertical-align: top;\n    }\n\n    .dataframe thead th {\n        text-align: right;\n    }\n</style>\n<table border=\"1\" class=\"dataframe\">\n  <thead>\n    <tr style=\"text-align: right;\">\n      <th></th>\n      <th>name</th>\n      <th>categories</th>\n      <th>address</th>\n      <th>lat</th>\n      <th>lng</th>\n      <th>labeledLatLngs</th>\n      <th>distance</th>\n      <th>postalCode</th>\n      <th>cc</th>\n      <th>city</th>\n      <th>state</th>\n      <th>country</th>\n      <th>formattedAddress</th>\n      <th>id</th>\n    </tr>\n  </thead>\n  <tbody>\n    <tr>\n      <th>0</th>\n      <td>Thomas L Horn Bar &amp; Lounge</td>\n      <td>Wine Bar</td>\n      <td>401 Van Ness Ave</td>\n      <td>37.779580</td>\n      <td>-122.422110</td>\n      <td>[{'label': 'display', 'lat': 37.77958, 'lng': ...</td>\n      <td>203</td>\n      <td>94102</td>\n      <td>US</td>\n      <td>San Francisco</td>\n      <td>CA</td>\n      <td>United States</td>\n      <td>[401 Van Ness Ave, San Francisco, CA 94102]</td>\n      <td>5905515f8c812a4130298084</td>\n    </tr>\n    <tr>\n      <th>1</th>\n      <td>Dickey's Barbecue Pit</td>\n      <td>Restaurant</td>\n      <td>590 Van Ness Ave</td>\n      <td>37.780831</td>\n      <td>-122.419959</td>\n      <td>[{'label': 'display', 'lat': 37.7808311, 'lng'...</td>\n      <td>200</td>\n      <td>94102</td>\n      <td>US</td>\n      <td>San Francisco</td>\n      <td>CA</td>\n      <td>United States</td>\n      <td>[590 Van Ness Ave, San Francisco, CA 94102]</td>\n      <td>5fbf51f35e4a23458f548454</td>\n    </tr>\n  </tbody>\n</table>\n</div>"
                    },
                    "metadata": {}
                }
            ]
        },
        {
            "metadata": {},
            "cell_type": "markdown",
            "source": "## 5. Conclusions"
        },
        {
            "metadata": {},
            "cell_type": "markdown",
            "source": "San Francisco has around the same number of bars as San Diego. However, drinks are priced higher, resulting in a higher profit margin assuming the bulk CA costs. San Francisco also has a higher percentage of the population between the ages of 20 and 39 (38%) versus San Diego at 35%, which is the age range the most commonly frequents bars. "
        },
        {
            "metadata": {},
            "cell_type": "markdown",
            "source": "## 6. Future Directions"
        },
        {
            "metadata": {},
            "cell_type": "markdown",
            "source": "Based on the analysis and conclusions, the new bar should be opened in San Francisco, CA to maximize profitability and target their age demographic. "
        },
        {
            "metadata": {},
            "cell_type": "code",
            "source": "",
            "execution_count": null,
            "outputs": []
        },
        {
            "metadata": {},
            "cell_type": "code",
            "source": "",
            "execution_count": null,
            "outputs": []
        },
        {
            "metadata": {},
            "cell_type": "code",
            "source": "",
            "execution_count": null,
            "outputs": []
        },
        {
            "metadata": {},
            "cell_type": "code",
            "source": "",
            "execution_count": null,
            "outputs": []
        },
        {
            "metadata": {},
            "cell_type": "code",
            "source": "",
            "execution_count": null,
            "outputs": []
        }
    ],
    "metadata": {
        "kernelspec": {
            "name": "python3",
            "display_name": "Python 3.7",
            "language": "python"
        },
        "language_info": {
            "name": "python",
            "version": "3.7.9",
            "mimetype": "text/x-python",
            "codemirror_mode": {
                "name": "ipython",
                "version": 3
            },
            "pygments_lexer": "ipython3",
            "nbconvert_exporter": "python",
            "file_extension": ".py"
        }
    },
    "nbformat": 4,
    "nbformat_minor": 1
}