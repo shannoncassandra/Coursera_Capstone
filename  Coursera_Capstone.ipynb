{
    "cells": [
        {
            "metadata": {},
            "cell_type": "markdown",
            "source": "# Introduction/Business Problem"
        },
        {
            "metadata": {},
            "cell_type": "markdown",
            "source": "The objective of this analysis will be to determine if it will be more profitable to open a bar in San Diego, CA or San Francisco, CA. This will be determined by prices of similar products in the area, competitors, and the general population and demograhic of the areas. The audience will be a start-up bar interested in maximizing profits and catering to a younger crowd. "
        },
        {
            "metadata": {},
            "cell_type": "markdown",
            "source": "# Data"
        },
        {
            "metadata": {},
            "cell_type": "markdown",
            "source": "The data that will be used in this analysis will be the number of similar bars in each city, the prices of drinks in each city, the costs of products needed for the bar based on the city, and the general population and demographic of each city. This data will be obtained from Foursquare location data and other relevant datasets found online. For example, coordinates will be obtained from Foursquare location data to see surrounding competeting bars and the popularity and prices for each. Based on this information, the most profitable location of the start-up bar can be determined, as well as estimated prices for products in order to be competitive. "
        },
        {
            "metadata": {},
            "cell_type": "code",
            "source": "",
            "execution_count": null,
            "outputs": []
        }
    ],
    "metadata": {
        "kernelspec": {
            "name": "python3",
            "display_name": "Python 3.7",
            "language": "python"
        },
        "language_info": {
            "name": "python",
            "version": "3.7.9",
            "mimetype": "text/x-python",
            "codemirror_mode": {
                "name": "ipython",
                "version": 3
            },
            "pygments_lexer": "ipython3",
            "nbconvert_exporter": "python",
            "file_extension": ".py"
        }
    },
    "nbformat": 4,
    "nbformat_minor": 1
}